{
 "cells": [
  {
   "metadata": {},
   "cell_type": "markdown",
   "source": "#  **Exploratory Data Analysis of Customer Purchase Data with Pandas**",
   "id": "5718896d858aaee8"
  },
  {
   "metadata": {},
   "cell_type": "markdown",
   "source": "## **Data Overview and Structure**",
   "id": "3afcac8a4431bc5f"
  },
  {
   "metadata": {},
   "cell_type": "markdown",
   "source": "### **Total Entries and Columns**",
   "id": "d610c05869676f89"
  },
  {
   "cell_type": "code",
   "id": "initial_id",
   "metadata": {
    "collapsed": true,
    "ExecuteTime": {
     "end_time": "2025-03-09T12:25:31.209610Z",
     "start_time": "2025-03-09T12:25:30.830512Z"
    }
   },
   "source": [
    "import pandas as pd\n",
    "\n",
    "# Loading dataset\n",
    "df = pd.read_csv('data/Cust_Purch_FakeData.csv')\n",
    "\n",
    "# Getting the number of rows and columns\n",
    "num_entries, num_columns = df.shape\n",
    "print(f'Total Entries: {num_entries}, Total Columns: {num_columns}')\n"
   ],
   "outputs": [
    {
     "name": "stdout",
     "output_type": "stream",
     "text": [
      "Total Entries: 30000, Total Columns: 20\n"
     ]
    }
   ],
   "execution_count": 2
  },
  {
   "metadata": {},
   "cell_type": "markdown",
   "source": "## **Customer Demographics**",
   "id": "4642f33c75e019be"
  },
  {
   "metadata": {},
   "cell_type": "markdown",
   "source": "### **Customer Age Analysis**",
   "id": "c9e734cc49272a8f"
  },
  {
   "metadata": {
    "ExecuteTime": {
     "end_time": "2025-03-09T12:57:52.638253Z",
     "start_time": "2025-03-09T12:57:52.623973Z"
    }
   },
   "cell_type": "code",
   "source": [
    "# Finding max, min, and mean age\n",
    "max_age = df['age'].max()\n",
    "min_age = df['age'].min()\n",
    "mean_age = df['age'].mean()\n",
    "\n",
    "print(f'Min Age: {min_age}, Max Age: {max_age}, Mean Age: {mean_age}')\n"
   ],
   "id": "a5c88238f193229e",
   "outputs": [
    {
     "name": "stdout",
     "output_type": "stream",
     "text": [
      "Min Age: 18, Max Age: 65, Mean Age: 41.550066666666666\n"
     ]
    }
   ],
   "execution_count": 26
  },
  {
   "metadata": {},
   "cell_type": "markdown",
   "source": "### **Customer Name Frequency**",
   "id": "20f1f9042d91932e"
  },
  {
   "metadata": {
    "ExecuteTime": {
     "end_time": "2025-03-09T12:33:52.423039Z",
     "start_time": "2025-03-09T12:33:52.336132Z"
    }
   },
   "cell_type": "code",
   "source": [
    "# Combining first and last name to get full name\n",
    "df['full_name'] = df['first'] + ' ' + df['last']\n",
    "\n",
    "# Finding the three most common customer names\n",
    "top_3_names = df['full_name'].value_counts().head(3)\n",
    "print('Top 3 Most Common Customer Names:')\n",
    "print(top_3_names)\n"
   ],
   "id": "12d1305d4aa488e5",
   "outputs": [
    {
     "name": "stdout",
     "output_type": "stream",
     "text": [
      "Top 3 Most Common Customer Names:\n",
      "full_name\n",
      "Henrietta Luna    4\n",
      "Leona Ruiz        3\n",
      "Katie McKinney    3\n",
      "Name: count, dtype: int64\n"
     ]
    }
   ],
   "execution_count": 8
  },
  {
   "metadata": {},
   "cell_type": "markdown",
   "source": "## **Customer Identification and Contact Information**",
   "id": "499f0a5e8befa3ec"
  },
  {
   "metadata": {},
   "cell_type": "markdown",
   "source": "### **Duplicate Phone Numbers**",
   "id": "56e14a7c7a52ed60"
  },
  {
   "metadata": {
    "ExecuteTime": {
     "end_time": "2025-03-09T12:36:04.437849Z",
     "start_time": "2025-03-09T12:36:04.394670Z"
    }
   },
   "cell_type": "code",
   "source": [
    "# Finding customers with duplicate phone numbers\n",
    "duplicate_phone = df[df.duplicated(subset='phone', keep=False)]\n",
    "print('Customers with Duplicate Phone Numbers:')\n",
    "print(duplicate_phone[['full_name', 'phone']])\n"
   ],
   "id": "77487ac08f053654",
   "outputs": [
    {
     "name": "stdout",
     "output_type": "stream",
     "text": [
      "Customers with Duplicate Phone Numbers:\n",
      "      full_name           phone\n",
      "15  Lilly Tyler  (263) 382-8004\n",
      "16   Peter Cain  (263) 382-8004\n"
     ]
    }
   ],
   "execution_count": 9
  },
  {
   "metadata": {},
   "cell_type": "markdown",
   "source": "### **Email Associations**",
   "id": "c6565df5b4008a05"
  },
  {
   "metadata": {
    "ExecuteTime": {
     "end_time": "2025-03-09T13:51:08.518284Z",
     "start_time": "2025-03-09T13:51:08.465657Z"
    }
   },
   "cell_type": "code",
   "source": [
    "# Ensuring the cc_no column is treated as a string for accurate comparison\n",
    "df['cc_no'] = df['cc_no'].astype(str)\n",
    "\n",
    "# Finding the rows with the given credit card number and return the associated emails\n",
    "card_email_details = df[df['cc_no'] == '5020000000000230']['email']\n",
    "\n",
    "# Showing the count and the corresponding emails\n",
    "card_email_count = card_email_details.shape[0]\n",
    "print(f'Number of emails associated with credit card 5020000000000230: {card_email_count}')\n",
    "print(card_email_details)\n"
   ],
   "id": "540472e11ab89e95",
   "outputs": [
    {
     "name": "stdout",
     "output_type": "stream",
     "text": [
      "Number of emails associated with credit card 5020000000000230: 2\n",
      "0    sebvajom@kol.km\n",
      "1      acu@jatsot.ug\n",
      "Name: email, dtype: object\n"
     ]
    }
   ],
   "execution_count": 36
  },
  {
   "metadata": {},
   "cell_type": "markdown",
   "source": "### **Email Providers**",
   "id": "9493b0141237d5ca"
  },
  {
   "metadata": {
    "ExecuteTime": {
     "end_time": "2025-03-09T12:39:01.828236Z",
     "start_time": "2025-03-09T12:39:01.736875Z"
    }
   },
   "cell_type": "code",
   "source": [
    "# Extracting email providers from email column\n",
    "df['EmailProvider'] = df['email'].apply(lambda x: x.split('@')[-1])\n",
    "top_5_email_providers = df['EmailProvider'].value_counts().head(5)\n",
    "print('Top 5 Most Popular Email Providers:')\n",
    "print(top_5_email_providers)\n"
   ],
   "id": "b5a68295cc1055f7",
   "outputs": [
    {
     "name": "stdout",
     "output_type": "stream",
     "text": [
      "Top 5 Most Popular Email Providers:\n",
      "EmailProvider\n",
      "gmail.com      1687\n",
      "me.com         1676\n",
      "outlook.com    1664\n",
      "live.com       1660\n",
      "hotmail.com    1659\n",
      "Name: count, dtype: int64\n"
     ]
    }
   ],
   "execution_count": 11
  },
  {
   "metadata": {},
   "cell_type": "markdown",
   "source": "### **Is there any customer using email with \"am.edu\"?**",
   "id": "a7236fe564d4eda9"
  },
  {
   "metadata": {
    "ExecuteTime": {
     "end_time": "2025-03-09T12:40:26.195501Z",
     "start_time": "2025-03-09T12:40:26.110277Z"
    }
   },
   "cell_type": "code",
   "source": [
    "# Checking if any customer has an email ending with \"am.edu\"\n",
    "am_edu_email = df[df['email'].str.contains('am.edu')]\n",
    "print('Customers with \"am.edu\" email:')\n",
    "print(am_edu_email[['full_name', 'email']])\n"
   ],
   "id": "346da0d4a6c27726",
   "outputs": [
    {
     "name": "stdout",
     "output_type": "stream",
     "text": [
      "Customers with \"am.edu\" email:\n",
      "            full_name         email\n",
      "150  Loretta Fletcher  barit@am.edu\n"
     ]
    }
   ],
   "execution_count": 12
  },
  {
   "metadata": {},
   "cell_type": "markdown",
   "source": "## **Customer Professions**",
   "id": "8d80fb00bf8a7ff3"
  },
  {
   "metadata": {},
   "cell_type": "markdown",
   "source": "### **Structural Engineer Count**",
   "id": "a546c2c2266a227a"
  },
  {
   "metadata": {
    "ExecuteTime": {
     "end_time": "2025-03-09T12:41:42.861688Z",
     "start_time": "2025-03-09T12:41:42.838734Z"
    }
   },
   "cell_type": "code",
   "source": [
    "# Finding how many customers are Structural Engineers\n",
    "structural_engineer_count = df[df['profession'] == 'Structural Engineer'].shape[0]\n",
    "print(f'Number of Structural Engineers: {structural_engineer_count}')\n"
   ],
   "id": "88fb22c894c19d3b",
   "outputs": [
    {
     "name": "stdout",
     "output_type": "stream",
     "text": [
      "Number of Structural Engineers: 87\n"
     ]
    }
   ],
   "execution_count": 13
  },
  {
   "metadata": {},
   "cell_type": "markdown",
   "source": "### **Male Structural Engineers**",
   "id": "234c9840cdbfbc7"
  },
  {
   "metadata": {
    "ExecuteTime": {
     "end_time": "2025-03-09T12:42:13.955947Z",
     "start_time": "2025-03-09T12:42:13.919981Z"
    }
   },
   "cell_type": "code",
   "source": [
    "# Finding how many male customers are Structural Engineers\n",
    "male_structural_engineers = df[(df['profession'] == 'Structural Engineer') & (df['gender'] == 'Male')].shape[0]\n",
    "print(f'Number of Male Structural Engineers: {male_structural_engineers}')\n"
   ],
   "id": "a062ba97a7b53ab7",
   "outputs": [
    {
     "name": "stdout",
     "output_type": "stream",
     "text": [
      "Number of Male Structural Engineers: 43\n"
     ]
    }
   ],
   "execution_count": 14
  },
  {
   "metadata": {},
   "cell_type": "markdown",
   "source": "### **Female Structural Engineers from Alberta**",
   "id": "2afd55017817c042"
  },
  {
   "metadata": {
    "ExecuteTime": {
     "end_time": "2025-03-09T13:54:47.967787Z",
     "start_time": "2025-03-09T13:54:47.935446Z"
    }
   },
   "cell_type": "code",
   "source": [
    "# Finding female Structural Engineers from Alberta\n",
    "female_structural_alberta = df[(df['profession'] == 'Structural Engineer') & (df['gender'] == 'Female') & (df['province'] == 'AB')].shape[0]\n",
    "print(f'Number of Female Structural Engineers from Alberta: {female_structural_alberta}')\n"
   ],
   "id": "c370ff195197665b",
   "outputs": [
    {
     "name": "stdout",
     "output_type": "stream",
     "text": [
      "Number of Female Structural Engineers from Alberta: 4\n"
     ]
    }
   ],
   "execution_count": 37
  },
  {
   "metadata": {},
   "cell_type": "markdown",
   "source": "### **Two Most Common Professions**",
   "id": "de416a4c8a029e82"
  },
  {
   "metadata": {
    "ExecuteTime": {
     "end_time": "2025-03-09T12:43:28.309534Z",
     "start_time": "2025-03-09T12:43:28.277757Z"
    }
   },
   "cell_type": "code",
   "source": [
    "# Finding the two most common professions\n",
    "top_2_professions = df['profession'].value_counts().head(2)\n",
    "print('Top 2 Most Common Professions:')\n",
    "print(top_2_professions)\n"
   ],
   "id": "e52bf4144c471402",
   "outputs": [
    {
     "name": "stdout",
     "output_type": "stream",
     "text": [
      "Top 2 Most Common Professions:\n",
      "profession\n",
      "Preschool Teacher       112\n",
      "Distribution Manager    107\n",
      "Name: count, dtype: int64\n"
     ]
    }
   ],
   "execution_count": 16
  },
  {
   "metadata": {},
   "cell_type": "markdown",
   "source": "## **Spending Behavior Analysis**",
   "id": "9d9ad18a53893fe5"
  },
  {
   "metadata": {},
   "cell_type": "markdown",
   "source": "### **Spending Summary**",
   "id": "a18ad4c65e126715"
  },
  {
   "metadata": {
    "ExecuteTime": {
     "end_time": "2025-03-09T12:45:36.741543Z",
     "start_time": "2025-03-09T12:45:36.729415Z"
    }
   },
   "cell_type": "code",
   "source": [
    "# Finding max, min, and average spending\n",
    "max_spending = df['price(CAD)'].max()\n",
    "min_spending = df['price(CAD)'].min()\n",
    "avg_spending = df['price(CAD)'].mean()\n",
    "\n",
    "print(f'Min Spending: {min_spending}, Average Spending: {avg_spending}, Max Spending: {max_spending}')\n"
   ],
   "id": "b347f4f2d78beea1",
   "outputs": [
    {
     "name": "stdout",
     "output_type": "stream",
     "text": [
      "Min Spending: 0.0, Average Spending: 49.990775, Max Spending: 100.0\n"
     ]
    }
   ],
   "execution_count": 18
  },
  {
   "metadata": {},
   "cell_type": "markdown",
   "source": "### **Non-Spenders**",
   "id": "383b9178fa899e77"
  },
  {
   "metadata": {
    "ExecuteTime": {
     "end_time": "2025-03-09T12:46:13.610469Z",
     "start_time": "2025-03-09T12:46:13.586058Z"
    }
   },
   "cell_type": "code",
   "source": [
    "# Finding customers who did not spend anything\n",
    "non_spenders = df[df['price(CAD)'] == 0]\n",
    "print('Customers who did not spend anything:')\n",
    "print(non_spenders[['full_name', 'price(CAD)']])"
   ],
   "id": "43e8933928d68e9",
   "outputs": [
    {
     "name": "stdout",
     "output_type": "stream",
     "text": [
      "Customers who did not spend anything:\n",
      "         full_name  price(CAD)\n",
      "5320   Bruce Bryan         0.0\n",
      "10597  Flora Clark         0.0\n"
     ]
    }
   ],
   "execution_count": 19
  },
  {
   "metadata": {},
   "cell_type": "markdown",
   "source": "### **Loyalty Reward Eligibility**",
   "id": "6f632826b2ce432d"
  },
  {
   "metadata": {
    "ExecuteTime": {
     "end_time": "2025-03-09T12:46:58.412338Z",
     "start_time": "2025-03-09T12:46:58.394101Z"
    }
   },
   "cell_type": "code",
   "source": [
    "# Finding customers who spent 100 CAD or more\n",
    "loyalty_rewards = df[df['price(CAD)'] >= 100]\n",
    "print('Customers eligible for loyalty rewards (spent 100 CAD or more):')\n",
    "print(loyalty_rewards[['full_name', 'price(CAD)']])"
   ],
   "id": "39d769dffe148aef",
   "outputs": [
    {
     "name": "stdout",
     "output_type": "stream",
     "text": [
      "Customers eligible for loyalty rewards (spent 100 CAD or more):\n",
      "              full_name  price(CAD)\n",
      "76        Gregory Brown       100.0\n",
      "21093  Cody Christensen       100.0\n",
      "24385      Lizzie Dixon       100.0\n"
     ]
    }
   ],
   "execution_count": 20
  },
  {
   "metadata": {},
   "cell_type": "markdown",
   "source": "### **Visa Spending**",
   "id": "4455665f012a9ac5"
  },
  {
   "metadata": {
    "ExecuteTime": {
     "end_time": "2025-03-09T12:47:28.609307Z",
     "start_time": "2025-03-09T12:47:28.568763Z"
    }
   },
   "cell_type": "code",
   "source": [
    "# Finding the customer who spent 100 CAD using Visa\n",
    "visa_spending = df[(df['cc_type'] == 'Visa') & (df['price(CAD)'] >= 100)]\n",
    "print('Customer who spent 100 CAD using Visa:')\n",
    "print(visa_spending[['full_name', 'price(CAD)', 'cc_type']])\n"
   ],
   "id": "aeb8296cfb57250b",
   "outputs": [
    {
     "name": "stdout",
     "output_type": "stream",
     "text": [
      "Customer who spent 100 CAD using Visa:\n",
      "        full_name  price(CAD) cc_type\n",
      "76  Gregory Brown       100.0    Visa\n"
     ]
    }
   ],
   "execution_count": 21
  },
  {
   "metadata": {},
   "cell_type": "markdown",
   "source": "## **Credit Card Information**",
   "id": "f92236a9b184a45d"
  },
  {
   "metadata": {},
   "cell_type": "markdown",
   "source": "### **Expiring Cards**",
   "id": "a44f16bd19f5d48f"
  },
  {
   "metadata": {
    "ExecuteTime": {
     "end_time": "2025-03-09T12:49:09.914042Z",
     "start_time": "2025-03-09T12:49:09.817310Z"
    }
   },
   "cell_type": "code",
   "source": [
    "# Converting expiration date to datetime format\n",
    "df['cc_exp'] = pd.to_datetime(df['cc_exp'], errors='coerce')\n",
    "\n",
    "# Extracting the year of expiration\n",
    "df['cc_exp_year'] = df['cc_exp'].dt.year\n",
    "\n",
    "# Finding how many cards are expiring in 2019\n",
    "expiring_cards_2019 = df[df['cc_exp_year'] == 2019].shape[0]\n",
    "print(f'Number of cards expiring in 2019: {expiring_cards_2019}')\n"
   ],
   "id": "6ed4073aab064213",
   "outputs": [
    {
     "name": "stdout",
     "output_type": "stream",
     "text": [
      "Number of cards expiring in 2019: 2684\n"
     ]
    }
   ],
   "execution_count": 23
  },
  {
   "metadata": {},
   "cell_type": "markdown",
   "source": "### **Credit Card Provider Analysis**",
   "id": "9081ee40ce02a655"
  },
  {
   "metadata": {
    "ExecuteTime": {
     "end_time": "2025-03-09T12:49:38.528436Z",
     "start_time": "2025-03-09T12:49:38.490272Z"
    }
   },
   "cell_type": "code",
   "source": [
    "# Counting how many people use Visa as their credit card provider\n",
    "visa_count = df[df['cc_type'] == 'Visa'].shape[0]\n",
    "print(f'Number of people using Visa: {visa_count}')\n"
   ],
   "id": "da44b9eeee057fce",
   "outputs": [
    {
     "name": "stdout",
     "output_type": "stream",
     "text": [
      "Number of people using Visa: 1721\n"
     ]
    }
   ],
   "execution_count": 24
  },
  {
   "metadata": {},
   "cell_type": "markdown",
   "source": "## **Customer Traffic and Engagement**",
   "id": "20947eb9985898f6"
  },
  {
   "metadata": {},
   "cell_type": "markdown",
   "source": "### **Peak Customer Day**",
   "id": "1b474b0112817e31"
  },
  {
   "metadata": {
    "ExecuteTime": {
     "end_time": "2025-03-09T12:50:25.700425Z",
     "start_time": "2025-03-09T12:50:25.369944Z"
    }
   },
   "cell_type": "code",
   "source": [
    "# Finding which day of the week the store gets the most customers\n",
    "df['date'] = pd.to_datetime(df['date'], errors='coerce')\n",
    "df['weekday'] = df['date'].dt.day_name()\n",
    "\n",
    "top_day = df['weekday'].value_counts().idxmax()\n",
    "print(f'The day of the week with the most customers: {top_day}')\n"
   ],
   "id": "d2f51357d0a5766a",
   "outputs": [
    {
     "name": "stdout",
     "output_type": "stream",
     "text": [
      "The day of the week with the most customers: Tuesday\n"
     ]
    }
   ],
   "execution_count": 25
  }
 ],
 "metadata": {
  "kernelspec": {
   "display_name": "Python 3",
   "language": "python",
   "name": "python3"
  },
  "language_info": {
   "codemirror_mode": {
    "name": "ipython",
    "version": 2
   },
   "file_extension": ".py",
   "mimetype": "text/x-python",
   "name": "python",
   "nbconvert_exporter": "python",
   "pygments_lexer": "ipython2",
   "version": "2.7.6"
  }
 },
 "nbformat": 4,
 "nbformat_minor": 5
}
